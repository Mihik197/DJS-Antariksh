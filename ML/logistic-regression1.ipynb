{
 "cells": [
  {
   "cell_type": "code",
   "execution_count": 71,
   "metadata": {},
   "outputs": [],
   "source": [
    "import numpy as np\n",
    "import matplotlib.pyplot as plt\n",
    "import pandas as pd\n",
    "from sklearn.model_selection import train_test_split\n",
    "from sklearn.preprocessing import StandardScaler\n",
    "from sklearn.linear_model import LogisticRegression\n",
    "from sklearn.metrics import accuracy_score, confusion_matrix, classification_report\n",
    "from sklearn.feature_selection import RFE\n",
    "from sklearn.preprocessing import PolynomialFeatures"
   ]
  },
  {
   "cell_type": "code",
   "execution_count": 2,
   "metadata": {},
   "outputs": [
    {
     "name": "stdout",
     "output_type": "stream",
     "text": [
      "Index(['MCD', 'S&P', 'DJ', 'Wendy', 'YUM', 'Starbuck', 'Coca', 'Wheat', 'Oil',\n",
      "       'Commodity', 'sugar', 'Volatilty', 'War'],\n",
      "      dtype='object')\n",
      "<class 'pandas.core.frame.DataFrame'>\n",
      "RangeIndex: 1257 entries, 0 to 1256\n",
      "Data columns (total 13 columns):\n",
      " #   Column     Non-Null Count  Dtype  \n",
      "---  ------     --------------  -----  \n",
      " 0   MCD        1257 non-null   int64  \n",
      " 1   S&P        1257 non-null   float64\n",
      " 2   DJ         1257 non-null   float64\n",
      " 3   Wendy      1257 non-null   float64\n",
      " 4   YUM        1257 non-null   float64\n",
      " 5   Starbuck   1257 non-null   float64\n",
      " 6   Coca       1257 non-null   float64\n",
      " 7   Wheat      1257 non-null   float64\n",
      " 8   Oil        1257 non-null   float64\n",
      " 9   Commodity  1257 non-null   float64\n",
      " 10  sugar      1257 non-null   float64\n",
      " 11  Volatilty  1257 non-null   float64\n",
      " 12  War        1257 non-null   float64\n",
      "dtypes: float64(12), int64(1)\n",
      "memory usage: 127.8 KB\n"
     ]
    },
    {
     "data": {
      "text/html": [
       "<div>\n",
       "<style scoped>\n",
       "    .dataframe tbody tr th:only-of-type {\n",
       "        vertical-align: middle;\n",
       "    }\n",
       "\n",
       "    .dataframe tbody tr th {\n",
       "        vertical-align: top;\n",
       "    }\n",
       "\n",
       "    .dataframe thead th {\n",
       "        text-align: right;\n",
       "    }\n",
       "</style>\n",
       "<table border=\"1\" class=\"dataframe\">\n",
       "  <thead>\n",
       "    <tr style=\"text-align: right;\">\n",
       "      <th></th>\n",
       "      <th>MCD</th>\n",
       "      <th>S&amp;P</th>\n",
       "      <th>DJ</th>\n",
       "      <th>Wendy</th>\n",
       "      <th>YUM</th>\n",
       "      <th>Starbuck</th>\n",
       "      <th>Coca</th>\n",
       "      <th>Wheat</th>\n",
       "      <th>Oil</th>\n",
       "      <th>Commodity</th>\n",
       "      <th>sugar</th>\n",
       "      <th>Volatilty</th>\n",
       "      <th>War</th>\n",
       "    </tr>\n",
       "  </thead>\n",
       "  <tbody>\n",
       "    <tr>\n",
       "      <th>0</th>\n",
       "      <td>1</td>\n",
       "      <td>-0.0028</td>\n",
       "      <td>-0.0008</td>\n",
       "      <td>-0.0033</td>\n",
       "      <td>0.0013</td>\n",
       "      <td>-0.0034</td>\n",
       "      <td>0.0023</td>\n",
       "      <td>-0.0207</td>\n",
       "      <td>-0.0040</td>\n",
       "      <td>-0.0044</td>\n",
       "      <td>0.0200</td>\n",
       "      <td>-0.0990</td>\n",
       "      <td>1.0</td>\n",
       "    </tr>\n",
       "    <tr>\n",
       "      <th>1</th>\n",
       "      <td>0</td>\n",
       "      <td>-0.0031</td>\n",
       "      <td>-0.0041</td>\n",
       "      <td>-0.0167</td>\n",
       "      <td>-0.0118</td>\n",
       "      <td>-0.0004</td>\n",
       "      <td>-0.0015</td>\n",
       "      <td>0.0005</td>\n",
       "      <td>0.0164</td>\n",
       "      <td>0.0143</td>\n",
       "      <td>0.0046</td>\n",
       "      <td>0.1485</td>\n",
       "      <td>1.0</td>\n",
       "    </tr>\n",
       "    <tr>\n",
       "      <th>2</th>\n",
       "      <td>0</td>\n",
       "      <td>-0.0014</td>\n",
       "      <td>-0.0077</td>\n",
       "      <td>-0.0257</td>\n",
       "      <td>-0.0025</td>\n",
       "      <td>-0.0104</td>\n",
       "      <td>0.0003</td>\n",
       "      <td>0.0146</td>\n",
       "      <td>-0.0054</td>\n",
       "      <td>-0.0018</td>\n",
       "      <td>-0.0095</td>\n",
       "      <td>-0.5238</td>\n",
       "      <td>1.0</td>\n",
       "    </tr>\n",
       "    <tr>\n",
       "      <th>3</th>\n",
       "      <td>0</td>\n",
       "      <td>0.0032</td>\n",
       "      <td>0.0068</td>\n",
       "      <td>0.0269</td>\n",
       "      <td>0.0004</td>\n",
       "      <td>-0.0102</td>\n",
       "      <td>-0.0046</td>\n",
       "      <td>0.0032</td>\n",
       "      <td>-0.0075</td>\n",
       "      <td>0.0020</td>\n",
       "      <td>0.0133</td>\n",
       "      <td>1.1193</td>\n",
       "      <td>1.0</td>\n",
       "    </tr>\n",
       "    <tr>\n",
       "      <th>4</th>\n",
       "      <td>0</td>\n",
       "      <td>0.0089</td>\n",
       "      <td>0.0103</td>\n",
       "      <td>0.0092</td>\n",
       "      <td>-0.0057</td>\n",
       "      <td>0.0110</td>\n",
       "      <td>0.0086</td>\n",
       "      <td>-0.0136</td>\n",
       "      <td>-0.0214</td>\n",
       "      <td>0.0012</td>\n",
       "      <td>0.0060</td>\n",
       "      <td>-0.0374</td>\n",
       "      <td>1.0</td>\n",
       "    </tr>\n",
       "    <tr>\n",
       "      <th>...</th>\n",
       "      <td>...</td>\n",
       "      <td>...</td>\n",
       "      <td>...</td>\n",
       "      <td>...</td>\n",
       "      <td>...</td>\n",
       "      <td>...</td>\n",
       "      <td>...</td>\n",
       "      <td>...</td>\n",
       "      <td>...</td>\n",
       "      <td>...</td>\n",
       "      <td>...</td>\n",
       "      <td>...</td>\n",
       "      <td>...</td>\n",
       "    </tr>\n",
       "    <tr>\n",
       "      <th>1252</th>\n",
       "      <td>1</td>\n",
       "      <td>0.0021</td>\n",
       "      <td>0.0064</td>\n",
       "      <td>0.0122</td>\n",
       "      <td>-0.0009</td>\n",
       "      <td>0.0003</td>\n",
       "      <td>0.0065</td>\n",
       "      <td>-0.0064</td>\n",
       "      <td>0.0158</td>\n",
       "      <td>0.0041</td>\n",
       "      <td>0.0039</td>\n",
       "      <td>-0.0175</td>\n",
       "      <td>0.0</td>\n",
       "    </tr>\n",
       "    <tr>\n",
       "      <th>1253</th>\n",
       "      <td>1</td>\n",
       "      <td>0.0021</td>\n",
       "      <td>0.0015</td>\n",
       "      <td>0.0017</td>\n",
       "      <td>0.0036</td>\n",
       "      <td>0.0008</td>\n",
       "      <td>-0.0084</td>\n",
       "      <td>-0.0005</td>\n",
       "      <td>-0.0058</td>\n",
       "      <td>0.0036</td>\n",
       "      <td>0.0233</td>\n",
       "      <td>0.0128</td>\n",
       "      <td>0.0</td>\n",
       "    </tr>\n",
       "    <tr>\n",
       "      <th>1254</th>\n",
       "      <td>0</td>\n",
       "      <td>0.0000</td>\n",
       "      <td>-0.0030</td>\n",
       "      <td>0.0073</td>\n",
       "      <td>-0.0040</td>\n",
       "      <td>0.0042</td>\n",
       "      <td>-0.0032</td>\n",
       "      <td>0.0151</td>\n",
       "      <td>-0.0019</td>\n",
       "      <td>0.0021</td>\n",
       "      <td>-0.0190</td>\n",
       "      <td>0.0137</td>\n",
       "      <td>0.0</td>\n",
       "    </tr>\n",
       "    <tr>\n",
       "      <th>1255</th>\n",
       "      <td>0</td>\n",
       "      <td>0.0116</td>\n",
       "      <td>0.0127</td>\n",
       "      <td>-0.0039</td>\n",
       "      <td>0.0077</td>\n",
       "      <td>-0.0051</td>\n",
       "      <td>-0.0030</td>\n",
       "      <td>0.0027</td>\n",
       "      <td>0.0161</td>\n",
       "      <td>0.0072</td>\n",
       "      <td>-0.0008</td>\n",
       "      <td>-0.0300</td>\n",
       "      <td>0.0</td>\n",
       "    </tr>\n",
       "    <tr>\n",
       "      <th>1256</th>\n",
       "      <td>0</td>\n",
       "      <td>0.0067</td>\n",
       "      <td>0.0082</td>\n",
       "      <td>0.0119</td>\n",
       "      <td>0.0068</td>\n",
       "      <td>0.0051</td>\n",
       "      <td>0.0060</td>\n",
       "      <td>0.0109</td>\n",
       "      <td>0.0241</td>\n",
       "      <td>-0.0049</td>\n",
       "      <td>0.0112</td>\n",
       "      <td>-0.0640</td>\n",
       "      <td>0.0</td>\n",
       "    </tr>\n",
       "  </tbody>\n",
       "</table>\n",
       "<p>1257 rows × 13 columns</p>\n",
       "</div>"
      ],
      "text/plain": [
       "      MCD     S&P      DJ   Wendy     YUM  Starbuck    Coca   Wheat     Oil  \\\n",
       "0       1 -0.0028 -0.0008 -0.0033  0.0013   -0.0034  0.0023 -0.0207 -0.0040   \n",
       "1       0 -0.0031 -0.0041 -0.0167 -0.0118   -0.0004 -0.0015  0.0005  0.0164   \n",
       "2       0 -0.0014 -0.0077 -0.0257 -0.0025   -0.0104  0.0003  0.0146 -0.0054   \n",
       "3       0  0.0032  0.0068  0.0269  0.0004   -0.0102 -0.0046  0.0032 -0.0075   \n",
       "4       0  0.0089  0.0103  0.0092 -0.0057    0.0110  0.0086 -0.0136 -0.0214   \n",
       "...   ...     ...     ...     ...     ...       ...     ...     ...     ...   \n",
       "1252    1  0.0021  0.0064  0.0122 -0.0009    0.0003  0.0065 -0.0064  0.0158   \n",
       "1253    1  0.0021  0.0015  0.0017  0.0036    0.0008 -0.0084 -0.0005 -0.0058   \n",
       "1254    0  0.0000 -0.0030  0.0073 -0.0040    0.0042 -0.0032  0.0151 -0.0019   \n",
       "1255    0  0.0116  0.0127 -0.0039  0.0077   -0.0051 -0.0030  0.0027  0.0161   \n",
       "1256    0  0.0067  0.0082  0.0119  0.0068    0.0051  0.0060  0.0109  0.0241   \n",
       "\n",
       "      Commodity   sugar  Volatilty  War  \n",
       "0       -0.0044  0.0200    -0.0990  1.0  \n",
       "1        0.0143  0.0046     0.1485  1.0  \n",
       "2       -0.0018 -0.0095    -0.5238  1.0  \n",
       "3        0.0020  0.0133     1.1193  1.0  \n",
       "4        0.0012  0.0060    -0.0374  1.0  \n",
       "...         ...     ...        ...  ...  \n",
       "1252     0.0041  0.0039    -0.0175  0.0  \n",
       "1253     0.0036  0.0233     0.0128  0.0  \n",
       "1254     0.0021 -0.0190     0.0137  0.0  \n",
       "1255     0.0072 -0.0008    -0.0300  0.0  \n",
       "1256    -0.0049  0.0112    -0.0640  0.0  \n",
       "\n",
       "[1257 rows x 13 columns]"
      ]
     },
     "execution_count": 2,
     "metadata": {},
     "output_type": "execute_result"
    }
   ],
   "source": [
    "# predict whether Mc Donald's Stock will go up or down, based on values of other popular indices (weekly data over 5 years)\n",
    "\n",
    "data = pd.read_csv('UPDOWND.csv', delimiter=';')  # this dataset uses ; instead of ,\n",
    "print(data.columns)\n",
    "\n",
    "# this dataset uses , instead of . for decimal values\n",
    "data = data.replace(',', '.', regex=True).apply(pd.to_numeric, errors='ignore')\n",
    "\n",
    "data_info = data.info()\n",
    "data_head = data.head()\n",
    "data"
   ]
  },
  {
   "cell_type": "code",
   "execution_count": 29,
   "metadata": {},
   "outputs": [],
   "source": [
    "X = data.drop('MCD', axis=1)  # features. axis=1 --> columns\n",
    "y = data['MCD']  # target\n",
    "\n",
    "X_train, X_test, y_train, y_test = train_test_split(X, y, test_size=0.2, random_state=42)\n",
    "\n",
    "scaler = StandardScaler()\n",
    "X_train_norm = scaler.fit_transform(X_train)\n",
    "X_test_norm = scaler.transform(X_test)  # transform() uses the mean and standard deviation calculated during the fit_transform()"
   ]
  },
  {
   "cell_type": "code",
   "execution_count": 30,
   "metadata": {},
   "outputs": [
    {
     "data": {
      "image/png": "[encoded data removed]",
      "text/plain": [
       "<Figure size 1000x800 with 16 Axes>"
      ]
     },
     "metadata": {},
     "output_type": "display_data"
    }
   ],
   "source": [
    "data.hist(figsize=(10, 8))\n",
    "plt.tight_layout()\n",
    "plt.show()"
   ]
  },
  {
   "cell_type": "code",
   "execution_count": 41,
   "metadata": {},
   "outputs": [
    {
     "data": {
      "text/html": [
       "<style>#sk-container-id-6 {color: black;background-color: white;}#sk-container-id-6 pre{padding: 0;}#sk-container-id-6 div.sk-toggleable {background-color: white;}#sk-container-id-6 label.sk-toggleable__label {cursor: pointer;display: block;width: 100%;margin-bottom: 0;padding: 0.3em;box-sizing: border-box;text-align: center;}#sk-container-id-6 label.sk-toggleable__label-arrow:before {content: \"▸\";float: left;margin-right: 0.25em;color: #696969;}#sk-container-id-6 label.sk-toggleable__label-arrow:hover:before {color: black;}#sk-container-id-6 div.sk-estimator:hover label.sk-toggleable__label-arrow:before {color: black;}#sk-container-id-6 div.sk-toggleable__content {max-height: 0;max-width: 0;overflow: hidden;text-align: left;background-color: #f0f8ff;}#sk-container-id-6 div.sk-toggleable__content pre {margin: 0.2em;color: black;border-radius: 0.25em;background-color: #f0f8ff;}#sk-container-id-6 input.sk-toggleable__control:checked~div.sk-toggleable__content {max-height: 200px;max-width: 100%;overflow: auto;}#sk-container-id-6 input.sk-toggleable__control:checked~label.sk-toggleable__label-arrow:before {content: \"▾\";}#sk-container-id-6 div.sk-estimator input.sk-toggleable__control:checked~label.sk-toggleable__label {background-color: #d4ebff;}#sk-container-id-6 div.sk-label input.sk-toggleable__control:checked~label.sk-toggleable__label {background-color: #d4ebff;}#sk-container-id-6 input.sk-hidden--visually {border: 0;clip: rect(1px 1px 1px 1px);clip: rect(1px, 1px, 1px, 1px);height: 1px;margin: -1px;overflow: hidden;padding: 0;position: absolute;width: 1px;}#sk-container-id-6 div.sk-estimator {font-family: monospace;background-color: #f0f8ff;border: 1px dotted black;border-radius: 0.25em;box-sizing: border-box;margin-bottom: 0.5em;}#sk-container-id-6 div.sk-estimator:hover {background-color: #d4ebff;}#sk-container-id-6 div.sk-parallel-item::after {content: \"\";width: 100%;border-bottom: 1px solid gray;flex-grow: 1;}#sk-container-id-6 div.sk-label:hover label.sk-toggleable__label {background-color: #d4ebff;}#sk-container-id-6 div.sk-serial::before {content: \"\";position: absolute;border-left: 1px solid gray;box-sizing: border-box;top: 0;bottom: 0;left: 50%;z-index: 0;}#sk-container-id-6 div.sk-serial {display: flex;flex-direction: column;align-items: center;background-color: white;padding-right: 0.2em;padding-left: 0.2em;position: relative;}#sk-container-id-6 div.sk-item {position: relative;z-index: 1;}#sk-container-id-6 div.sk-parallel {display: flex;align-items: stretch;justify-content: center;background-color: white;position: relative;}#sk-container-id-6 div.sk-item::before, #sk-container-id-6 div.sk-parallel-item::before {content: \"\";position: absolute;border-left: 1px solid gray;box-sizing: border-box;top: 0;bottom: 0;left: 50%;z-index: -1;}#sk-container-id-6 div.sk-parallel-item {display: flex;flex-direction: column;z-index: 1;position: relative;background-color: white;}#sk-container-id-6 div.sk-parallel-item:first-child::after {align-self: flex-end;width: 50%;}#sk-container-id-6 div.sk-parallel-item:last-child::after {align-self: flex-start;width: 50%;}#sk-container-id-6 div.sk-parallel-item:only-child::after {width: 0;}#sk-container-id-6 div.sk-dashed-wrapped {border: 1px dashed gray;margin: 0 0.4em 0.5em 0.4em;box-sizing: border-box;padding-bottom: 0.4em;background-color: white;}#sk-container-id-6 div.sk-label label {font-family: monospace;font-weight: bold;display: inline-block;line-height: 1.2em;}#sk-container-id-6 div.sk-label-container {text-align: center;}#sk-container-id-6 div.sk-container {/* jupyter's `normalize.less` sets `[hidden] { display: none; }` but bootstrap.min.css set `[hidden] { display: none !important; }` so we also need the `!important` here to be able to override the default hidden behavior on the sphinx rendered scikit-learn.org. See: https://github.com/scikit-learn/scikit-learn/issues/21755 */display: inline-block !important;position: relative;}#sk-container-id-6 div.sk-text-repr-fallback {display: none;}</style><div id=\"sk-container-id-6\" class=\"sk-top-container\"><div class=\"sk-text-repr-fallback\"><pre>LogisticRegression()</pre><b>In a Jupyter environment, please rerun this cell to show the HTML representation or trust the notebook. <br />On GitHub, the HTML representation is unable to render, please try loading this page with nbviewer.org.</b></div><div class=\"sk-container\" hidden><div class=\"sk-item\"><div class=\"sk-estimator sk-toggleable\"><input class=\"sk-toggleable__control sk-hidden--visually\" id=\"sk-estimator-id-6\" type=\"checkbox\" checked><label for=\"sk-estimator-id-6\" class=\"sk-toggleable__label sk-toggleable__label-arrow\">LogisticRegression</label><div class=\"sk-toggleable__content\"><pre>LogisticRegression()</pre></div></div></div></div></div>"
      ],
      "text/plain": [
       "LogisticRegression()"
      ]
     },
     "execution_count": 41,
     "metadata": {},
     "output_type": "execute_result"
    }
   ],
   "source": [
    "model = LogisticRegression()\n",
    "model.fit(X_train_norm, y_train)"
   ]
  },
  {
   "cell_type": "code",
   "execution_count": 64,
   "metadata": {},
   "outputs": [
    {
     "name": "stdout",
     "output_type": "stream",
     "text": [
      "[False False  True  True  True False False  True False  True False False]\n",
      "[3 8 1 1 1 2 6 1 7 1 4 5]\n"
     ]
    }
   ],
   "source": [
    "# feature selection method \n",
    "# fits a model and removes the weakest features until the specified number of features is reached\n",
    "selector = RFE(model, n_features_to_select=5, step=1)\n",
    "selector = selector.fit(X_train_norm, y_train)\n",
    "\n",
    "print(selector.support_)  # which features are selected\n",
    "print(selector.ranking_)  # 1 --> feature selected"
   ]
  },
  {
   "cell_type": "code",
   "execution_count": 65,
   "metadata": {},
   "outputs": [
    {
     "data": {
      "text/html": [
       "<style>#sk-container-id-8 {color: black;background-color: white;}#sk-container-id-8 pre{padding: 0;}#sk-container-id-8 div.sk-toggleable {background-color: white;}#sk-container-id-8 label.sk-toggleable__label {cursor: pointer;display: block;width: 100%;margin-bottom: 0;padding: 0.3em;box-sizing: border-box;text-align: center;}#sk-container-id-8 label.sk-toggleable__label-arrow:before {content: \"▸\";float: left;margin-right: 0.25em;color: #696969;}#sk-container-id-8 label.sk-toggleable__label-arrow:hover:before {color: black;}#sk-container-id-8 div.sk-estimator:hover label.sk-toggleable__label-arrow:before {color: black;}#sk-container-id-8 div.sk-toggleable__content {max-height: 0;max-width: 0;overflow: hidden;text-align: left;background-color: #f0f8ff;}#sk-container-id-8 div.sk-toggleable__content pre {margin: 0.2em;color: black;border-radius: 0.25em;background-color: #f0f8ff;}#sk-container-id-8 input.sk-toggleable__control:checked~div.sk-toggleable__content {max-height: 200px;max-width: 100%;overflow: auto;}#sk-container-id-8 input.sk-toggleable__control:checked~label.sk-toggleable__label-arrow:before {content: \"▾\";}#sk-container-id-8 div.sk-estimator input.sk-toggleable__control:checked~label.sk-toggleable__label {background-color: #d4ebff;}#sk-container-id-8 div.sk-label input.sk-toggleable__control:checked~label.sk-toggleable__label {background-color: #d4ebff;}#sk-container-id-8 input.sk-hidden--visually {border: 0;clip: rect(1px 1px 1px 1px);clip: rect(1px, 1px, 1px, 1px);height: 1px;margin: -1px;overflow: hidden;padding: 0;position: absolute;width: 1px;}#sk-container-id-8 div.sk-estimator {font-family: monospace;background-color: #f0f8ff;border: 1px dotted black;border-radius: 0.25em;box-sizing: border-box;margin-bottom: 0.5em;}#sk-container-id-8 div.sk-estimator:hover {background-color: #d4ebff;}#sk-container-id-8 div.sk-parallel-item::after {content: \"\";width: 100%;border-bottom: 1px solid gray;flex-grow: 1;}#sk-container-id-8 div.sk-label:hover label.sk-toggleable__label {background-color: #d4ebff;}#sk-container-id-8 div.sk-serial::before {content: \"\";position: absolute;border-left: 1px solid gray;box-sizing: border-box;top: 0;bottom: 0;left: 50%;z-index: 0;}#sk-container-id-8 div.sk-serial {display: flex;flex-direction: column;align-items: center;background-color: white;padding-right: 0.2em;padding-left: 0.2em;position: relative;}#sk-container-id-8 div.sk-item {position: relative;z-index: 1;}#sk-container-id-8 div.sk-parallel {display: flex;align-items: stretch;justify-content: center;background-color: white;position: relative;}#sk-container-id-8 div.sk-item::before, #sk-container-id-8 div.sk-parallel-item::before {content: \"\";position: absolute;border-left: 1px solid gray;box-sizing: border-box;top: 0;bottom: 0;left: 50%;z-index: -1;}#sk-container-id-8 div.sk-parallel-item {display: flex;flex-direction: column;z-index: 1;position: relative;background-color: white;}#sk-container-id-8 div.sk-parallel-item:first-child::after {align-self: flex-end;width: 50%;}#sk-container-id-8 div.sk-parallel-item:last-child::after {align-self: flex-start;width: 50%;}#sk-container-id-8 div.sk-parallel-item:only-child::after {width: 0;}#sk-container-id-8 div.sk-dashed-wrapped {border: 1px dashed gray;margin: 0 0.4em 0.5em 0.4em;box-sizing: border-box;padding-bottom: 0.4em;background-color: white;}#sk-container-id-8 div.sk-label label {font-family: monospace;font-weight: bold;display: inline-block;line-height: 1.2em;}#sk-container-id-8 div.sk-label-container {text-align: center;}#sk-container-id-8 div.sk-container {/* jupyter's `normalize.less` sets `[hidden] { display: none; }` but bootstrap.min.css set `[hidden] { display: none !important; }` so we also need the `!important` here to be able to override the default hidden behavior on the sphinx rendered scikit-learn.org. See: https://github.com/scikit-learn/scikit-learn/issues/21755 */display: inline-block !important;position: relative;}#sk-container-id-8 div.sk-text-repr-fallback {display: none;}</style><div id=\"sk-container-id-8\" class=\"sk-top-container\"><div class=\"sk-text-repr-fallback\"><pre>LogisticRegression()</pre><b>In a Jupyter environment, please rerun this cell to show the HTML representation or trust the notebook. <br />On GitHub, the HTML representation is unable to render, please try loading this page with nbviewer.org.</b></div><div class=\"sk-container\" hidden><div class=\"sk-item\"><div class=\"sk-estimator sk-toggleable\"><input class=\"sk-toggleable__control sk-hidden--visually\" id=\"sk-estimator-id-8\" type=\"checkbox\" checked><label for=\"sk-estimator-id-8\" class=\"sk-toggleable__label sk-toggleable__label-arrow\">LogisticRegression</label><div class=\"sk-toggleable__content\"><pre>LogisticRegression()</pre></div></div></div></div></div>"
      ],
      "text/plain": [
       "LogisticRegression()"
      ]
     },
     "execution_count": 65,
     "metadata": {},
     "output_type": "execute_result"
    }
   ],
   "source": [
    "# to fit model with selected features\n",
    "model.fit(X_train_norm[:, selector.support_], y_train)"
   ]
  },
  {
   "cell_type": "code",
   "execution_count": 66,
   "metadata": {},
   "outputs": [
    {
     "name": "stdout",
     "output_type": "stream",
     "text": [
      "weights: [[-0.08129173  0.12827158 -0.1278073   0.08527164  0.08330238]] \n",
      " bias: [0.07334576]\n"
     ]
    }
   ],
   "source": [
    "w = model.coef_\n",
    "b = model.intercept_\n",
    "print(f'weights: {w} \\n bias: {b}')"
   ]
  },
  {
   "cell_type": "code",
   "execution_count": 67,
   "metadata": {},
   "outputs": [
    {
     "name": "stdout",
     "output_type": "stream",
     "text": [
      "\n",
      "Prediction on test set:\n",
      "[0 1 1 1 1 0 0 0 0 0]\n",
      "Target values \n",
      "[0, 1, 0, 1, 1, 0, 0, 0, 0, 0]\n"
     ]
    }
   ],
   "source": [
    "y_pred = model.predict(X_test_norm[:, selector.support_])  # selected features only\n",
    "print(f\"\\nPrediction on test set:\\n{y_pred[:10]}\" )\n",
    "print(f\"Target values \\n{list(y_test[:10])}\")"
   ]
  },
  {
   "cell_type": "code",
   "execution_count": 68,
   "metadata": {},
   "outputs": [
    {
     "data": {
      "text/plain": [
       "((252,), (252,))"
      ]
     },
     "execution_count": 68,
     "metadata": {},
     "output_type": "execute_result"
    }
   ],
   "source": [
    "y_test.shape, y_pred.shape"
   ]
  },
  {
   "cell_type": "code",
   "execution_count": 90,
   "metadata": {},
   "outputs": [
    {
     "name": "stdout",
     "output_type": "stream",
     "text": [
      "Accuracy on test set: 0.5515873015873016\n"
     ]
    }
   ],
   "source": [
    "# accuracy_score(y_test, y_pred)\n",
    "# not very accurate\n",
    "print(f'Accuracy on test set:', model.score(X_test_norm[:, selector.support_], y_test))"
   ]
  }
 ],
 "metadata": {
  "kernelspec": {
   "display_name": "Python 3 (ipykernel)",
   "language": "python",
   "name": "python3"
  },
  "language_info": {
   "codemirror_mode": {
    "name": "ipython",
    "version": 3
   },
   "file_extension": ".py",
   "mimetype": "text/x-python",
   "name": "python",
   "nbconvert_exporter": "python",
   "pygments_lexer": "ipython3",
   "version": "3.11.7"
  }
 },
 "nbformat": 4,
 "nbformat_minor": 4
}
