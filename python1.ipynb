{
 "cells": [
  {
   "cell_type": "code",
   "execution_count": 102,
   "metadata": {},
   "outputs": [
    {
     "name": "stdout",
     "output_type": "stream",
     "text": [
      "test\n"
     ]
    }
   ],
   "source": [
    "print(\"test\")"
   ]
  },
  {
   "cell_type": "markdown",
   "metadata": {},
   "source": [
    "Lists"
   ]
  },
  {
   "cell_type": "code",
   "execution_count": 103,
   "metadata": {},
   "outputs": [
    {
     "data": {
      "text/plain": [
       "15"
      ]
     },
     "execution_count": 103,
     "metadata": {},
     "output_type": "execute_result"
    }
   ],
   "source": [
    "numbers = [1, 2, 3, 4, 5]\n",
    "addition = 0\n",
    "for number in numbers:\n",
    "    addition += number\n",
    "addition"
   ]
  },
  {
   "cell_type": "code",
   "execution_count": 104,
   "metadata": {},
   "outputs": [
    {
     "name": "stdout",
     "output_type": "stream",
     "text": [
      "student name: a | total marks: 272\n",
      "student name: b | total marks: 263\n",
      "student name: c | total marks: 271\n"
     ]
    }
   ],
   "source": [
    "students = [[\"a\", 90, 93, 89], [\"b\", 78, 98, 87], [\"c\", 96, 83, 92]]\n",
    "for student in students:\n",
    "    total = 0\n",
    "    for i in range (1, 4):\n",
    "        total += student[i]\n",
    "    print(f\"student name: {student[0]} | total marks: {total}\")"
   ]
  },
  {
   "cell_type": "code",
   "execution_count": 105,
   "metadata": {},
   "outputs": [
    {
     "name": "stdout",
     "output_type": "stream",
     "text": [
      "[4, 5]\n"
     ]
    }
   ],
   "source": [
    "list1 = [1, 2, 3, 4, 5]\n",
    "list2 = [4, 5, 6, 7, 8]\n",
    "\n",
    "#common elements\n",
    "common_list = []\n",
    "for number in list1:\n",
    "    if number in list2:\n",
    "        common_list.append(number)\n",
    "\n",
    "print(common_list)"
   ]
  },
  {
   "cell_type": "code",
   "execution_count": 106,
   "metadata": {},
   "outputs": [
    {
     "data": {
      "text/plain": [
       "[1, 2, 3, 4, 5, 6, 7, 8, 9]"
      ]
     },
     "execution_count": 106,
     "metadata": {},
     "output_type": "execute_result"
    }
   ],
   "source": [
    "nested_list = [[1, 2, 3], [4, 5, 6], [7, 8, 9]]\n",
    "#nested list to one single list\n",
    "new_list = []\n",
    "for list in nested_list:\n",
    "    for item in list:\n",
    "        new_list.append(item)\n",
    "new_list"
   ]
  },
  {
   "cell_type": "code",
   "execution_count": 107,
   "metadata": {},
   "outputs": [
    {
     "data": {
      "text/plain": [
       "[1, 3, 5, 7]"
      ]
     },
     "execution_count": 107,
     "metadata": {},
     "output_type": "execute_result"
    }
   ],
   "source": [
    "numbers = [1, 2, 3, 4, 5, 6, 7, 8]\n",
    "# create a list of odd numbers:\n",
    "\n",
    "odd = []\n",
    "for number in numbers:\n",
    "    if number % 2 != 0:\n",
    "        odd.append(number)\n",
    "\n",
    "odd"
   ]
  },
  {
   "cell_type": "markdown",
   "metadata": {},
   "source": [
    "Sets"
   ]
  },
  {
   "cell_type": "code",
   "execution_count": 108,
   "metadata": {},
   "outputs": [
    {
     "data": {
      "text/plain": [
       "{1, 2, 3, 4, 5, 6, 7, 8, 10, 11}"
      ]
     },
     "execution_count": 108,
     "metadata": {},
     "output_type": "execute_result"
    }
   ],
   "source": [
    "#convert list into set which contains only one of each number\n",
    "numbers = [1, 2, 2, 3, 4, 4, 5, 7, 8, 6, 8, 10, 7, 7, 11]\n",
    "unique_numbers_set = set(numbers)\n",
    "unique_numbers_set"
   ]
  },
  {
   "cell_type": "code",
   "execution_count": 109,
   "metadata": {},
   "outputs": [
    {
     "data": {
      "text/plain": [
       "{1, 2, 3, 4, 5, 6, 7, 8}"
      ]
     },
     "execution_count": 109,
     "metadata": {},
     "output_type": "execute_result"
    }
   ],
   "source": [
    "set1 = {1, 2, 3, 4, 5}\n",
    "set2 = {4, 5, 6, 7, 8}\n",
    "\n",
    "#union of sets\n",
    "\n",
    "set_union = set1.union(set2)\n",
    "set_union"
   ]
  },
  {
   "cell_type": "code",
   "execution_count": 110,
   "metadata": {},
   "outputs": [
    {
     "data": {
      "text/plain": [
       "{4, 5}"
      ]
     },
     "execution_count": 110,
     "metadata": {},
     "output_type": "execute_result"
    }
   ],
   "source": [
    "#intersection of sets\n",
    "\n",
    "set_intersection = set1.intersection(set2)\n",
    "set_intersection"
   ]
  },
  {
   "cell_type": "code",
   "execution_count": 111,
   "metadata": {},
   "outputs": [
    {
     "data": {
      "text/plain": [
       "{1, 2, 3, 6, 7, 8}"
      ]
     },
     "execution_count": 111,
     "metadata": {},
     "output_type": "execute_result"
    }
   ],
   "source": [
    "#return elements which are not common in both sets\n",
    "set1 = {1, 2, 3, 4, 5}\n",
    "set2 = {4, 5, 6, 7, 8}\n",
    "\n",
    "set_unique = set1.symmetric_difference(set2)\n",
    "set_unique"
   ]
  },
  {
   "cell_type": "markdown",
   "metadata": {},
   "source": [
    "Dictionaries"
   ]
  },
  {
   "cell_type": "code",
   "execution_count": 112,
   "metadata": {},
   "outputs": [
    {
     "name": "stdout",
     "output_type": "stream",
     "text": [
      "a: 10\n",
      "b: 20\n",
      "c: 30\n"
     ]
    }
   ],
   "source": [
    "dicts = {'a': 10, 'b': 20, 'c': 30}\n",
    "\n",
    "for key, value in dicts.items():\n",
    "    print(f\"{key}: {value}\")"
   ]
  },
  {
   "cell_type": "code",
   "execution_count": 113,
   "metadata": {},
   "outputs": [
    {
     "data": {
      "text/plain": [
       "{'a': 1, 'b': 2, 'c': 3, 'd': 4}"
      ]
     },
     "execution_count": 113,
     "metadata": {},
     "output_type": "execute_result"
    }
   ],
   "source": [
    "dict1 = {'a': 1, 'b': 2}\n",
    "dict2 = {'c': 3, 'd': 4}\n",
    "\n",
    "#combined dict\n",
    "\n",
    "dict1.update(dict2)\n",
    "dict1 "
   ]
  },
  {
   "cell_type": "code",
   "execution_count": 114,
   "metadata": {},
   "outputs": [
    {
     "data": {
      "text/plain": [
       "{'name': 'Mihik', 'age': 19, 'city': 'Mumbai'}"
      ]
     },
     "execution_count": 114,
     "metadata": {},
     "output_type": "execute_result"
    }
   ],
   "source": [
    "keys = ['name', 'age', 'city']\n",
    "values = ['Mihik', 19, 'Mumbai']\n",
    "\n",
    "new_dict = {}\n",
    "\n",
    "for i in range(len(keys)):\n",
    "    temp_dict = {keys[i]: values[i]}\n",
    "    new_dict.update(temp_dict)\n",
    "\n",
    "new_dict\n"
   ]
  },
  {
   "cell_type": "code",
   "execution_count": 115,
   "metadata": {},
   "outputs": [
    {
     "data": {
      "text/plain": [
       "{'h': 1, 'e': 1, 'l': 3, 'o': 2, 'w': 1, 'r': 1, 'd': 1}"
      ]
     },
     "execution_count": 115,
     "metadata": {},
     "output_type": "execute_result"
    }
   ],
   "source": [
    "string = \"hello world\"\n",
    "\n",
    "#number of occurences of each letter:\n",
    "string_new = string.replace(\" \", \"\")\n",
    "string_new\n",
    "\n",
    "occurences = {}\n",
    "seen_letters = []\n",
    "\n",
    "for letter in string_new:\n",
    "    if letter in seen_letters:\n",
    "        occurences[letter] += 1\n",
    "    else:\n",
    "        temp_occurence = {letter: 1}\n",
    "        occurences.update(temp_occurence)\n",
    "        seen_letters.append(letter)\n",
    "\n",
    "occurences"
   ]
  },
  {
   "cell_type": "code",
   "execution_count": 117,
   "metadata": {},
   "outputs": [
    {
     "name": "stdout",
     "output_type": "stream",
     "text": [
      "student name: student1 | average marks: 85.0\n",
      "student name: student2 | average marks: 88.0\n"
     ]
    }
   ],
   "source": [
    "students = [{'name': 'student1', 'scores': [85, 78, 92]}, {'name': 'student2', 'scores': [92, 88, 84]}]\n",
    "\n",
    "for student in students:\n",
    "    total_score = 0\n",
    "    for score in student['scores']:\n",
    "        total_score += score\n",
    "    average_marks = total_score / len(student['scores'])\n",
    "    print(f\"student name: {student['name']} | average marks: {average_marks}\")\n"
   ]
  },
  {
   "cell_type": "markdown",
   "metadata": {},
   "source": [
    "Conditionals"
   ]
  },
  {
   "cell_type": "code",
   "execution_count": 118,
   "metadata": {},
   "outputs": [
    {
     "name": "stdout",
     "output_type": "stream",
     "text": [
      "B\n",
      "C\n",
      "F\n"
     ]
    }
   ],
   "source": [
    "#grade students\n",
    "'''\n",
    "A: 90-100\n",
    "B: 80-89\n",
    "C: 60-79\n",
    "F: <60\n",
    "'''\n",
    "\n",
    "def grade(n):\n",
    "    if n >=90 and n <= 100:\n",
    "        print(\"A\")\n",
    "    elif n >= 80 and n <= 89:\n",
    "        print(\"B\")\n",
    "    elif n >= 60 and n <= 79:\n",
    "        print(\"C\")\n",
    "    elif n >= 0 and n < 60:\n",
    "        print(\"F\")\n",
    "    else:\n",
    "        print(\"invalid marks\")\n",
    "\n",
    "grade(88)\n",
    "grade(73)\n",
    "grade(36)"
   ]
  },
  {
   "cell_type": "code",
   "execution_count": 121,
   "metadata": {},
   "outputs": [
    {
     "name": "stdout",
     "output_type": "stream",
     "text": [
      "divisible by 6\n",
      "not divisible by 6\n"
     ]
    }
   ],
   "source": [
    "#check divisibility by 6\n",
    "\n",
    "def check_divisible_6(n):\n",
    "    if n % 2 == 0 and n % 3 == 0:\n",
    "        print(\"divisible by 6\")\n",
    "    else:\n",
    "        print(\"not divisible by 6\")\n",
    "\n",
    "check_divisible_6(24)\n",
    "check_divisible_6(112)"
   ]
  },
  {
   "cell_type": "code",
   "execution_count": 126,
   "metadata": {},
   "outputs": [
    {
     "data": {
      "text/plain": [
       "92"
      ]
     },
     "execution_count": 126,
     "metadata": {},
     "output_type": "execute_result"
    }
   ],
   "source": [
    "a = [20, 37, 87, 92, 16, 3, 77]\n",
    "#find max\n",
    "max = 0\n",
    "\n",
    "for number in a:\n",
    "    if number > max:\n",
    "        max = number\n",
    "\n",
    "max"
   ]
  },
  {
   "cell_type": "code",
   "execution_count": 142,
   "metadata": {},
   "outputs": [
    {
     "name": "stdout",
     "output_type": "stream",
     "text": [
      "vowel\n",
      "consonant\n"
     ]
    }
   ],
   "source": [
    "vowels = \"aeiou\"\n",
    "consonant = \"bcdfghjklmpqrstvwxyz\"\n",
    "\n",
    "def is_vowel(n):\n",
    "    if n in vowels:\n",
    "        print(\"vowel\")\n",
    "    else:\n",
    "        print(\"consonant\")\n",
    "\n",
    "is_vowel(\"a\")\n",
    "is_vowel(\"z\")"
   ]
  },
  {
   "cell_type": "code",
   "execution_count": 146,
   "metadata": {},
   "outputs": [
    {
     "name": "stdout",
     "output_type": "stream",
     "text": [
      "leap year\n"
     ]
    }
   ],
   "source": [
    "year = 2024\n",
    "\n",
    "if (year % 4 == 0 and year % 100 != 0) or (year % 400 == 0):\n",
    "    print(\"leap year\")\n",
    "else:\n",
    "    print(\"not a leap year\")"
   ]
  },
  {
   "cell_type": "markdown",
   "metadata": {},
   "source": [
    "Loops"
   ]
  },
  {
   "cell_type": "code",
   "execution_count": 133,
   "metadata": {},
   "outputs": [
    {
     "data": {
      "text/plain": [
       "720"
      ]
     },
     "execution_count": 133,
     "metadata": {},
     "output_type": "execute_result"
    }
   ],
   "source": [
    "#factorial\n",
    "\n",
    "n = 6\n",
    "fact = 1\n",
    "while n > 0:\n",
    "    fact *= n\n",
    "    n -= 1\n",
    "\n",
    "fact"
   ]
  },
  {
   "cell_type": "code",
   "execution_count": 140,
   "metadata": {},
   "outputs": [
    {
     "name": "stdout",
     "output_type": "stream",
     "text": [
      "2 4 6 8 10 12 14 16 18 20 "
     ]
    }
   ],
   "source": [
    "#print even numbers\n",
    "for i in range(1, 21):\n",
    "    if i % 2 == 0:\n",
    "        print(i, end=\" \")"
   ]
  },
  {
   "cell_type": "code",
   "execution_count": 150,
   "metadata": {},
   "outputs": [
    {
     "name": "stdout",
     "output_type": "stream",
     "text": [
      "\n",
      "#\n",
      "##\n",
      "###\n",
      "####\n",
      "#####\n"
     ]
    }
   ],
   "source": [
    "#print pyramid\n",
    "n = 5\n",
    "\n",
    "for i in range(n + 1):\n",
    "    for j in range(i):\n",
    "        print(\"#\", end=\"\")\n",
    "    print()"
   ]
  },
  {
   "cell_type": "code",
   "execution_count": 157,
   "metadata": {},
   "outputs": [
    {
     "data": {
      "text/plain": [
       "23"
      ]
     },
     "execution_count": 157,
     "metadata": {},
     "output_type": "execute_result"
    }
   ],
   "source": [
    "#sum of digits\n",
    "number = 18293\n",
    "number_str = str(number)\n",
    "\n",
    "addition = 0\n",
    "for i in range(len(number_str)):\n",
    "    addition += int(number_str[i])\n",
    "\n",
    "addition"
   ]
  },
  {
   "cell_type": "code",
   "execution_count": 166,
   "metadata": {},
   "outputs": [
    {
     "name": "stdout",
     "output_type": "stream",
     "text": [
      "snake_case: arithmetic_error\n"
     ]
    }
   ],
   "source": [
    "#camelCase to snake_case\n",
    "camel_case = \"arithmeticError\"\n",
    "\n",
    "snake_case = \"\"\n",
    "\n",
    "for letter in camel_case:\n",
    "    if letter.isupper():\n",
    "        snake_case += \"_\" + letter.lower()\n",
    "    else:\n",
    "        snake_case += letter\n",
    "\n",
    "print(\"snake_case: \" + snake_case)"
   ]
  },
  {
   "cell_type": "markdown",
   "metadata": {},
   "source": [
    "Strings"
   ]
  },
  {
   "cell_type": "code",
   "execution_count": 171,
   "metadata": {},
   "outputs": [
    {
     "data": {
      "text/plain": [
       "'five...four...three...two...one'"
      ]
     },
     "execution_count": 171,
     "metadata": {},
     "output_type": "execute_result"
    }
   ],
   "source": [
    "#inserts \"...\" between words\n",
    "\n",
    "text = \"five four three two one\"\n",
    "new_text = text.replace(\" \", \"...\")\n",
    "new_text"
   ]
  },
  {
   "cell_type": "code",
   "execution_count": 175,
   "metadata": {},
   "outputs": [
    {
     "data": {
      "text/plain": [
       "'world hello'"
      ]
     },
     "execution_count": 175,
     "metadata": {},
     "output_type": "execute_result"
    }
   ],
   "source": [
    "#reverse sentence\n",
    "\n",
    "text = \"hello world\"\n",
    "text_split = text.split()\n",
    "text_split_reversed = text_split[::-1]\n",
    "text_reversed = \" \".join(text_split_reversed)\n",
    "text_reversed"
   ]
  },
  {
   "cell_type": "code",
   "execution_count": 179,
   "metadata": {},
   "outputs": [
    {
     "name": "stdout",
     "output_type": "stream",
     "text": [
      "not a palindrome\n",
      "palindrome!\n"
     ]
    }
   ],
   "source": [
    "#checks if word is palindrome\n",
    "\n",
    "def is_palindrome(word):\n",
    "    reversed_word = word[::-1]\n",
    "    if (reversed_word == word):\n",
    "        return print(\"palindrome!\")\n",
    "    return print(\"not a palindrome\")\n",
    "\n",
    "text = is_palindrome(\"python\")\n",
    "text = is_palindrome(\"radar\")"
   ]
  },
  {
   "cell_type": "code",
   "execution_count": 167,
   "metadata": {},
   "outputs": [
    {
     "name": "stdout",
     "output_type": "stream",
     "text": [
      "Output: hll wrld!\n"
     ]
    }
   ],
   "source": [
    "user = \"hello world!\"\n",
    "\n",
    "#remove vowels\n",
    "def shorten(word):\n",
    "    shortened_word = \"\"\n",
    "    for letter in word:\n",
    "        if letter.lower() in \"aeiou\":\n",
    "            continue\n",
    "        else:\n",
    "            shortened_word += letter\n",
    "    print(f\"Output: {shortened_word}\")\n",
    "\n",
    "output = shorten(user)"
   ]
  }
 ],
 "metadata": {
  "kernelspec": {
   "display_name": "base",
   "language": "python",
   "name": "python3"
  },
  "language_info": {
   "codemirror_mode": {
    "name": "ipython",
    "version": 3
   },
   "file_extension": ".py",
   "mimetype": "text/x-python",
   "name": "python",
   "nbconvert_exporter": "python",
   "pygments_lexer": "ipython3",
   "version": "3.11.7"
  }
 },
 "nbformat": 4,
 "nbformat_minor": 2
}
