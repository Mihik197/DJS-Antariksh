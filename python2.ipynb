{
 "cells": [
  {
   "cell_type": "code",
   "execution_count": 2,
   "metadata": {},
   "outputs": [
    {
     "data": {
      "text/plain": [
       "'test'"
      ]
     },
     "execution_count": 2,
     "metadata": {},
     "output_type": "execute_result"
    }
   ],
   "source": [
    "\"test\""
   ]
  },
  {
   "cell_type": "markdown",
   "metadata": {},
   "source": [
    "# Functions"
   ]
  },
  {
   "cell_type": "code",
   "execution_count": 4,
   "metadata": {},
   "outputs": [
    {
     "name": "stdout",
     "output_type": "stream",
     "text": [
      "120\n",
      "5040\n"
     ]
    }
   ],
   "source": [
    "# factorial\n",
    "\n",
    "def fact(n):\n",
    "    if n == 1:\n",
    "        return 1\n",
    "    else:\n",
    "        return n * fact(n-1)\n",
    "\n",
    "print(fact(5))\n",
    "print(fact(7))"
   ]
  },
  {
   "cell_type": "code",
   "execution_count": 104,
   "metadata": {},
   "outputs": [
    {
     "name": "stdout",
     "output_type": "stream",
     "text": [
      "[(4, 1), (5, 2), (1, 3), (2, 4)]\n"
     ]
    }
   ],
   "source": [
    "# sort tuples based on the second element\n",
    "\n",
    "tups = [(1, 3), (4, 1), (5, 2), (2, 4)]\n",
    "sorted_tups = sorted(tups, key=lambda x: x[1])\n",
    "print(sorted_tups)"
   ]
  },
  {
   "cell_type": "code",
   "execution_count": 6,
   "metadata": {},
   "outputs": [
    {
     "name": "stdout",
     "output_type": "stream",
     "text": [
      "[1, 2, 3, 4, 5]\n"
     ]
    }
   ],
   "source": [
    "# outputs unique elements in a list\n",
    "\n",
    "def unique(n):\n",
    "    seen = []\n",
    "    for element in n:\n",
    "        if element in seen:\n",
    "            continue\n",
    "        else:\n",
    "            seen.append(element)\n",
    "    return seen\n",
    "\n",
    "print(unique([1, 2, 2, 3, 4, 4, 5]))"
   ]
  },
  {
   "cell_type": "code",
   "execution_count": 8,
   "metadata": {},
   "outputs": [
    {
     "name": "stdout",
     "output_type": "stream",
     "text": [
      "{'a': 1, 'b': 5, 'c': 7, 'd': 14, 'e': 3, 'f': 7}\n"
     ]
    }
   ],
   "source": [
    "# merge any number of dictionaries\n",
    "\n",
    "def merge_dict(*args):\n",
    "    new_dict = {}\n",
    "    for dict in args:\n",
    "        for key, value in dict.items():\n",
    "            if key in new_dict:\n",
    "                new_dict[key] += value\n",
    "            else:\n",
    "                new_dict[key] = value\n",
    "    return new_dict\n",
    "\n",
    "dict1 = {'a': 1, 'b': 2, 'c': 3}\n",
    "dict2 = {'b': 3, 'c': 4, 'd': 5}\n",
    "dict3 = {'d': 9, 'e': 3, 'f': 7}\n",
    "\n",
    "print(merge_dict(dict1, dict2, dict3))"
   ]
  },
  {
   "cell_type": "code",
   "execution_count": 18,
   "metadata": {},
   "outputs": [
    {
     "name": "stdout",
     "output_type": "stream",
     "text": [
      "(-2.0, -3.0)\n"
     ]
    }
   ],
   "source": [
    "# solve quadratic equations\n",
    "\n",
    "import math\n",
    "\n",
    "\n",
    "def quad(a, b, c):\n",
    "    d = math.sqrt(b**2 - (4*a*c))\n",
    "    x1 = (-b + d) / (2*a)\n",
    "    x2 = (-b - d) / (2*a)\n",
    "    return (x1, x2)\n",
    "\n",
    "print(quad(1, 5, 6))"
   ]
  },
  {
   "cell_type": "code",
   "execution_count": 16,
   "metadata": {},
   "outputs": [
    {
     "data": {
      "text/plain": [
       "[0, 1, 1, 2, 3, 5, 8, 13, 21, 34, 55, 89]"
      ]
     },
     "execution_count": 16,
     "metadata": {},
     "output_type": "execute_result"
    }
   ],
   "source": [
    "# fibonacci numbers\n",
    "\n",
    "def fib(n):\n",
    "    seq = [0, 1]\n",
    "\n",
    "    for i in range(n):\n",
    "        num = seq[-1] + seq[-2]\n",
    "        seq.append(num) \n",
    "\n",
    "    return seq\n",
    "\n",
    "fib(10)"
   ]
  },
  {
   "cell_type": "markdown",
   "metadata": {},
   "source": [
    "# Decorators"
   ]
  },
  {
   "cell_type": "code",
   "execution_count": 22,
   "metadata": {},
   "outputs": [
    {
     "name": "stdout",
     "output_type": "stream",
     "text": [
      "function test1 called with arguments (1, 5, 6), {'a': 1, 'b': 2, 'c': 3} returned function run successful!\n"
     ]
    },
    {
     "data": {
      "text/plain": [
       "'function run successful!'"
      ]
     },
     "execution_count": 22,
     "metadata": {},
     "output_type": "execute_result"
    }
   ],
   "source": [
    "# create a log of functions called\n",
    "\n",
    "def log_dec(func):\n",
    "    def wrapper(*args, **kwargs):\n",
    "        result = func(*args, **kwargs)\n",
    "        print(f'function {func.__name__} called with arguments {args}, {kwargs} returned {result}')\n",
    "        return result\n",
    "    return wrapper\n",
    "\n",
    "@log_dec\n",
    "def test1(*args, **kwargs):\n",
    "    return (\"function run successful!\")\n",
    "\n",
    "test1(1, 5, 6, **dict1)"
   ]
  },
  {
   "cell_type": "code",
   "execution_count": 23,
   "metadata": {},
   "outputs": [
    {
     "name": "stdout",
     "output_type": "stream",
     "text": [
      "20\n",
      "6\n",
      "returning cached result...\n",
      "20\n"
     ]
    }
   ],
   "source": [
    "# temp cache\n",
    "\n",
    "def cache(func):\n",
    "    cache = {}\n",
    "    def wrapper(*args, **kwargs):\n",
    "        if args in cache:\n",
    "            print(\"returning cached result...\")\n",
    "            return cache[args]\n",
    "        else:\n",
    "            result = func(*args, **kwargs)\n",
    "            cache[args] = result\n",
    "            return result\n",
    "    return wrapper\n",
    "    \n",
    "@cache\n",
    "def mul(a, b):\n",
    "    return a*b\n",
    "\n",
    "print(mul(4, 5))\n",
    "print(mul(3, 2))\n",
    "print(mul(4, 5))"
   ]
  },
  {
   "cell_type": "code",
   "execution_count": 25,
   "metadata": {},
   "outputs": [
    {
     "name": "stdout",
     "output_type": "stream",
     "text": [
      "User not logged in!! Login in to view profile\n",
      "Displaying user profile...\n",
      "User 1 profile details...\n"
     ]
    }
   ],
   "source": [
    "# log in required function\n",
    "\n",
    "def login_required(func):\n",
    "    def wrapper(*args, **kwargs):\n",
    "        if login:\n",
    "            result = func(*args, **kwargs)\n",
    "            print(\"Displaying user profile...\")\n",
    "            return result\n",
    "        else:\n",
    "            return f'User not logged in!! Login in to view profile'\n",
    "    return wrapper\n",
    "\n",
    "login = False\n",
    "\n",
    "@login_required\n",
    "def display_profile():\n",
    "    return f'User 1 profile details...'\n",
    "\n",
    "print(display_profile())\n",
    "\n",
    "login = True\n",
    "\n",
    "print(display_profile())"
   ]
  },
  {
   "cell_type": "code",
   "execution_count": 26,
   "metadata": {},
   "outputs": [
    {
     "name": "stdout",
     "output_type": "stream",
     "text": [
      "function ran once\n",
      "function ran second time\n",
      "function ran third time\n",
      "(27, 27, 27)\n"
     ]
    }
   ],
   "source": [
    "# running function multiple times\n",
    "\n",
    "def run_multiple(func):\n",
    "    def wrapper(*args, **kwargs):\n",
    "        result1 = func(*args, **kwargs)\n",
    "        print(f'function ran once')\n",
    "        result2 = func(*args, **kwargs)\n",
    "        print(f'function ran second time')\n",
    "        result3 = func(*args, **kwargs)\n",
    "        print(f'function ran third time')\n",
    "        return result1, result2, result3\n",
    "    return wrapper\n",
    "\n",
    "@run_multiple\n",
    "def add(*args):\n",
    "    sum = 0\n",
    "    for arg in args:\n",
    "        sum += arg\n",
    "    return sum\n",
    "\n",
    "print(add(4, 6, 8, 9))"
   ]
  },
  {
   "cell_type": "markdown",
   "metadata": {},
   "source": [
    "# Modules"
   ]
  },
  {
   "cell_type": "code",
   "execution_count": 28,
   "metadata": {},
   "outputs": [
    {
     "name": "stdout",
     "output_type": "stream",
     "text": [
      "Collecting emoji\n",
      "  Downloading emoji-2.12.1-py3-none-any.whl.metadata (5.4 kB)\n",
      "Requirement already satisfied: typing-extensions>=4.7.0 in c:\\users\\avira\\anaconda3\\lib\\site-packages (from emoji) (4.9.0)\n",
      "Downloading emoji-2.12.1-py3-none-any.whl (431 kB)\n",
      "   ---------------------------------------- 0.0/431.4 kB ? eta -:--:--\n",
      "   ---------------------------------------- 0.0/431.4 kB ? eta -:--:--\n",
      "    --------------------------------------- 10.2/431.4 kB ? eta -:--:--\n",
      "   --- ----------------------------------- 41.0/431.4 kB 393.8 kB/s eta 0:00:01\n",
      "   --------------- ------------------------ 163.8/431.4 kB 1.2 MB/s eta 0:00:01\n",
      "   ------------------------------- -------- 337.9/431.4 kB 1.9 MB/s eta 0:00:01\n",
      "   ---------------------------------------- 431.4/431.4 kB 2.1 MB/s eta 0:00:00\n",
      "Installing collected packages: emoji\n",
      "Successfully installed emoji-2.12.1\n",
      "Note: you may need to restart the kernel to use updated packages.\n"
     ]
    }
   ],
   "source": [
    "pip install emoji"
   ]
  },
  {
   "cell_type": "code",
   "execution_count": 29,
   "metadata": {},
   "outputs": [
    {
     "name": "stdout",
     "output_type": "stream",
     "text": [
      "Output: 👍 hi, how's it going? 😄\n"
     ]
    }
   ],
   "source": [
    "# converts text to emojis\n",
    "\n",
    "import emoji\n",
    "\n",
    "user = input(\"Input: \")\n",
    "\n",
    "if '_' in user:\n",
    "    print(emoji.emojize(\"Output: \" + user, language='alias'))\n",
    "else:\n",
    "    print(\"Output: \" + emoji.emojize(user, language='alias'))\n",
    "\n",
    "# user input : :thumbs_up: hi, how's it going? :smile:"
   ]
  },
  {
   "cell_type": "code",
   "execution_count": 32,
   "metadata": {},
   "outputs": [],
   "source": [
    "# random number guessing game\n",
    "\n",
    "import random\n",
    "\n",
    "random_number = random.randint(1, 20)"
   ]
  },
  {
   "cell_type": "code",
   "execution_count": 43,
   "metadata": {},
   "outputs": [
    {
     "data": {
      "text/plain": [
       "'Just right!'"
      ]
     },
     "execution_count": 43,
     "metadata": {},
     "output_type": "execute_result"
    }
   ],
   "source": [
    "\n",
    "def game(guess):\n",
    "    if guess != random_number:\n",
    "        if guess > random_number:\n",
    "            print(\"Too large!\")\n",
    "        elif guess < random_number:\n",
    "            print(\"Too small!\")\n",
    "    else:\n",
    "        return (\"Just right!\")\n",
    "            \n",
    "# game(5) --> Too small!\n",
    "# game(20) --> Too large!\n",
    "# game(15) --> Too small!\n",
    "# game(19) --> Just right!\n",
    "game(19)"
   ]
  },
  {
   "cell_type": "code",
   "execution_count": 44,
   "metadata": {},
   "outputs": [
    {
     "name": "stdout",
     "output_type": "stream",
     "text": [
      "Collecting pyfiglet\n",
      "  Downloading pyfiglet-1.0.2-py3-none-any.whl.metadata (7.1 kB)\n",
      "Downloading pyfiglet-1.0.2-py3-none-any.whl (1.1 MB)\n",
      "   ---------------------------------------- 0.0/1.1 MB ? eta -:--:--\n",
      "   ---------------------------------------- 0.0/1.1 MB ? eta -:--:--\n",
      "   ---------------------------------------- 0.0/1.1 MB ? eta -:--:--\n",
      "   - -------------------------------------- 0.0/1.1 MB 435.7 kB/s eta 0:00:03\n",
      "   ---- ----------------------------------- 0.1/1.1 MB 901.1 kB/s eta 0:00:02\n",
      "   ------------- -------------------------- 0.4/1.1 MB 2.1 MB/s eta 0:00:01\n",
      "   ----------------------------- ---------- 0.8/1.1 MB 3.6 MB/s eta 0:00:01\n",
      "   ---------------------------------------- 1.1/1.1 MB 4.0 MB/s eta 0:00:00\n",
      "Installing collected packages: pyfiglet\n",
      "Successfully installed pyfiglet-1.0.2\n",
      "Note: you may need to restart the kernel to use updated packages.\n"
     ]
    }
   ],
   "source": [
    "pip install pyfiglet"
   ]
  },
  {
   "cell_type": "code",
   "execution_count": 48,
   "metadata": {},
   "outputs": [],
   "source": [
    "# convert text to ascii art fonts\n",
    "\n",
    "from pyfiglet import Figlet\n",
    "\n",
    "figlet = Figlet()\n",
    "fonts = figlet.getFonts()"
   ]
  },
  {
   "cell_type": "code",
   "execution_count": 77,
   "metadata": {},
   "outputs": [
    {
     "name": "stdout",
     "output_type": "stream",
     "text": [
      "Output:                        __      __          __ \n",
      "  ___ ___ ___ _  ___  / /__   / /______ __/ /_\n",
      " (_-</ _ `/  ' \\/ _ \\/ / -_) / __/ -_) \\ / __/\n",
      "/___/\\_,_/_/_/_/ .__/_/\\__/  \\__/\\__/_\\_\\\\__/ \n",
      "              /_/                             \n",
      "\n"
     ]
    }
   ],
   "source": [
    "figlet.setFont(font=random.choice(fonts))\n",
    "\n",
    "user = \"sample text\"\n",
    "\n",
    "print(\"Output: \" + figlet.renderText(user))"
   ]
  },
  {
   "cell_type": "code",
   "execution_count": 78,
   "metadata": {},
   "outputs": [],
   "source": [
    "import requests"
   ]
  },
  {
   "cell_type": "code",
   "execution_count": 85,
   "metadata": {},
   "outputs": [
    {
     "name": "stdout",
     "output_type": "stream",
     "text": [
      "The price of 5.0 bitcoins is $315,734.8600\n"
     ]
    }
   ],
   "source": [
    "# fetch the price of bitcoin\n",
    "\n",
    "response = requests.get(\"https://api.coindesk.com/v1/bpi/currentprice.json\").json()\n",
    "\n",
    "rate = float((response[\"bpi\"][\"USD\"][\"rate\"]).replace(\",\", \"\"))\n",
    "\n",
    "user = 5\n",
    "\n",
    "print(f\"The price of {user:,.1f} bitcoins is ${rate * user:,.4f}\")\n"
   ]
  },
  {
   "cell_type": "code",
   "execution_count": 86,
   "metadata": {},
   "outputs": [],
   "source": [
    "from datetime import datetime"
   ]
  },
  {
   "cell_type": "code",
   "execution_count": 89,
   "metadata": {},
   "outputs": [
    {
     "name": "stdout",
     "output_type": "stream",
     "text": [
      "Monday\n"
     ]
    }
   ],
   "source": [
    "# converts date to day of week\n",
    "\n",
    "def day_of_week(date):\n",
    "    day = datetime.strptime(date, \"%Y-%m-%d\")\n",
    "    day = day.strftime(\"%A\")\n",
    "    return print(f'{day}')\n",
    "\n",
    "today = '2024-07-01'\n",
    "\n",
    "day_of_week(today)"
   ]
  },
  {
   "cell_type": "markdown",
   "metadata": {},
   "source": [
    "# OOP"
   ]
  },
  {
   "cell_type": "code",
   "execution_count": 90,
   "metadata": {},
   "outputs": [],
   "source": [
    "# a bank account\n",
    "# this class can be imported in another file by using \n",
    "# ```from filename import BankAccount```"
   ]
  },
  {
   "cell_type": "code",
   "execution_count": 94,
   "metadata": {},
   "outputs": [],
   "source": [
    "class BankAccount:\n",
    "    def __init__(self, start_balance=0):\n",
    "        self.balance = start_balance\n",
    "\n",
    "    def deposit(self, amount):\n",
    "        self.balance += amount\n",
    "\n",
    "    def withdraw(self, amount):\n",
    "        if amount > self.balance:\n",
    "            print(\"Not enough balance!\")\n",
    "        else:\n",
    "            self.balance -= amount\n",
    "    \n",
    "    def show_balance(self):\n",
    "        print(f'{self.balance}')        "
   ]
  },
  {
   "cell_type": "code",
   "execution_count": 96,
   "metadata": {},
   "outputs": [
    {
     "name": "stdout",
     "output_type": "stream",
     "text": [
      "50\n",
      "25\n",
      "125\n"
     ]
    }
   ],
   "source": [
    "new_acc = BankAccount(50)\n",
    "new_acc.show_balance()\n",
    "new_acc.withdraw(25)\n",
    "new_acc.show_balance()\n",
    "new_acc.deposit(100)\n",
    "new_acc.show_balance()"
   ]
  },
  {
   "cell_type": "code",
   "execution_count": 97,
   "metadata": {},
   "outputs": [],
   "source": [
    "# a class Student inheriting from Human class"
   ]
  },
  {
   "cell_type": "code",
   "execution_count": 98,
   "metadata": {},
   "outputs": [],
   "source": [
    "class Human:\n",
    "    def __init__(self, name, age):\n",
    "        self.name = name\n",
    "        self.age = age\n",
    "    \n",
    "    def display(self):\n",
    "        print(f'name: {self.name}, age: {self.age}')\n",
    "\n",
    "class Student(Human):\n",
    "    def __init__(self, name, age, college, id):\n",
    "        super().__init__(name, age)\n",
    "        self.college = college\n",
    "        self.id = id\n",
    "\n",
    "    def display(self):\n",
    "        super().display()\n",
    "        print(f'college: {self.college}, id: {self.id}')"
   ]
  },
  {
   "cell_type": "code",
   "execution_count": 100,
   "metadata": {},
   "outputs": [
    {
     "name": "stdout",
     "output_type": "stream",
     "text": [
      "name: Mihik, age: 19\n",
      "college: DJ, id: 10\n"
     ]
    }
   ],
   "source": [
    "student1 = Student('Mihik', 19, 'DJ', '10')\n",
    "student1.display()"
   ]
  },
  {
   "cell_type": "code",
   "execution_count": 101,
   "metadata": {},
   "outputs": [],
   "source": [
    "# multiple classes with same function name\n",
    "\n",
    "class Circle:\n",
    "    def __init__(self, r):\n",
    "        self.r = r\n",
    "\n",
    "    def area(self):\n",
    "        area = math.pi * self.r**2\n",
    "        print(f'area: {area}')\n",
    "\n",
    "class Square:\n",
    "    def __init__(self, s):\n",
    "        self.s = s\n",
    "\n",
    "    def area(self):\n",
    "        area = self.r**2\n",
    "        print(f'area: {area}')\n",
    "\n",
    "class Rectangle:\n",
    "    def __init__(self, l, b):\n",
    "        self.l = l\n",
    "        self.b = b\n",
    "\n",
    "    def area(self):\n",
    "        area = self.l * self.b\n",
    "        print(f'area: {area}')"
   ]
  },
  {
   "cell_type": "code",
   "execution_count": 103,
   "metadata": {},
   "outputs": [
    {
     "name": "stdout",
     "output_type": "stream",
     "text": [
      "area: 78.53981633974483\n",
      "area: 63\n"
     ]
    }
   ],
   "source": [
    "shape1 = Circle(5)\n",
    "shape1.area()\n",
    "\n",
    "shape2 = Rectangle(7, 9)\n",
    "shape2.area()"
   ]
  }
 ],
 "metadata": {
  "kernelspec": {
   "display_name": "base",
   "language": "python",
   "name": "python3"
  },
  "language_info": {
   "codemirror_mode": {
    "name": "ipython",
    "version": 3
   },
   "file_extension": ".py",
   "mimetype": "text/x-python",
   "name": "python",
   "nbconvert_exporter": "python",
   "pygments_lexer": "ipython3",
   "version": "3.11.7"
  }
 },
 "nbformat": 4,
 "nbformat_minor": 2
}
